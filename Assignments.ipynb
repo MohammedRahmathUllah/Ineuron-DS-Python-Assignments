{
  "nbformat": 4,
  "nbformat_minor": 0,
  "metadata": {
    "colab": {
      "provenance": [],
      "toc_visible": true,
      "authorship_tag": "ABX9TyPfJVOi21DH6X8BrmJ3Jm17",
      "include_colab_link": true
    },
    "kernelspec": {
      "name": "python3",
      "display_name": "Python 3"
    },
    "language_info": {
      "name": "python"
    }
  },
  "cells": [
    {
      "cell_type": "markdown",
      "metadata": {
        "id": "view-in-github",
        "colab_type": "text"
      },
      "source": [
        "<a href=\"https://colab.research.google.com/github/MohammedRahmathUllah/Ineuron-DS-Python-Assignments/blob/main/Assignments.ipynb\" target=\"_parent\"><img src=\"https://colab.research.google.com/assets/colab-badge.svg\" alt=\"Open In Colab\"/></a>"
      ]
    },
    {
      "cell_type": "markdown",
      "source": [
        "# Assignment 001"
      ],
      "metadata": {
        "id": "0uoVCM7HOMoS"
      }
    },
    {
      "cell_type": "markdown",
      "source": [
        "**Q1**\n",
        "\n",
        "The elements provided can be categorized as values or expressions:\n",
        "\n",
        "Values:\n",
        "\n",
        "'hello' (string)\n",
        "-87.8 (floating-point number)\n",
        "\n",
        "Expressions:\n",
        "\n",
        "'*' (multiplication operator)\n",
        "'-' (subtraction operator)\n",
        "'/' (division operator)\n",
        "'+' (addition operator)"
      ],
      "metadata": {
        "id": "MW6ppvIQF5XL"
      }
    },
    {
      "cell_type": "markdown",
      "source": [
        "**Q2**\n",
        "\n",
        "In Python, a string is a way to store and represent text or characters. For example, it can be a word like \"Hello\" or a sentence like \"I love Python!\". Strings are always enclosed within single quotes (' ') or double quotes (\" \").\n",
        "\n",
        "On the other hand, a variable is like a container that can hold different types of data, including strings. It's like giving a name to a value so that you can refer to it later. For example, you can create a variable called message and store the string \"Hello, Python!\" in it."
      ],
      "metadata": {
        "id": "oPtYQyGvH4Ji"
      }
    },
    {
      "cell_type": "markdown",
      "source": [
        "**Q3**\n",
        "\n",
        "Integer (int):\n",
        "An integer is a whole number without any decimal point. It can be positive or negative and is used for counting, indexing, and performing arithmetic operations.\n",
        "\n",
        "String (str):\n",
        "A string is used to represent textual data, such as words, sentences, or any sequence of characters. Strings are enclosed within single quotes (' ') or double quotes (\" \").\n",
        "\n",
        "Boolean (bool):\n",
        "A boolean data type has only two possible values: True or False. Booleans are used for making decisions or comparisons in the program, like checking if a condition is true or false.\n",
        "\n",
        "\n",
        "\n",
        "```\n",
        "# Integer data type\n",
        "age = 25\n",
        "print(\"My age is:\", age)\n",
        "\n",
        "# String data type\n",
        "message = \"Hello, Python!\"\n",
        "print(message)\n",
        "\n",
        "# Boolean data type\n",
        "is_student = True\n",
        "print(\"Am I a student?\", is_student)\n",
        "```\n",
        "\n",
        "\n"
      ],
      "metadata": {
        "id": "BBmnFrayIZGo"
      }
    },
    {
      "cell_type": "markdown",
      "source": [
        "**Q4**\n",
        "\n",
        "In Python, an expression is a combination of values, variables, and operators. It represents a computation or a calculation that evaluates to a single value.\n",
        "\n",
        "Expressions in Python can include the following elements:\n",
        "\n",
        "Values:\n",
        "\n",
        "These are the basic building blocks of expressions. Values can be numbers (like 5, 10.5) or text (like \"Hello\" or \"Python\") or even True or False (Boolean values).\n",
        "\n",
        "Variables:\n",
        "\n",
        "Variables are like containers that hold values. They have names that we give them, and we can use these names to refer to the values they hold.\n",
        "\n",
        "Operators:\n",
        "\n",
        "Operators are symbols that perform operations on values. For example, the plus sign (+) is an operator used for addition, the minus sign (-) is for subtraction, the asterisk (*) is for multiplication, and the slash (/) is for division.\n",
        "\n",
        "\n",
        "\n",
        "```\n",
        "result = 5 + 3\n",
        "```\n",
        "\n"
      ],
      "metadata": {
        "id": "9l2HMeDTJitx"
      }
    },
    {
      "cell_type": "markdown",
      "source": [
        "**Q5**\n",
        "\n",
        "Expression:\n",
        "\n",
        "A combination of values, variables, and operators that produces a single value when evaluated.\n",
        "\n",
        "Statement:\n",
        "\n",
        "A complete line of code that performs an action or controls the flow of a program.\n",
        "Unlike expressions, statements do not return a value.\n",
        "\n",
        "Difference:\n",
        "\n",
        "Expressions produce a value when executed, while statements perform actions or control the program's flow without returning a value."
      ],
      "metadata": {
        "id": "97T6nKq1LReh"
      }
    },
    {
      "cell_type": "markdown",
      "source": [
        "**Q6**\n",
        "\n",
        "After running the code, the variable bacon will still contain the value 22. The reason is that even though we added 1 to the bacon variable using the expression bacon + 1, we didn't store or save the result of that expression back into the bacon variable. So, bacon remains unchanged with the initial value of 22. If you want to update the value of bacon to 23, you need to use an assignment statement like this:\n",
        "\n",
        "\n",
        "\n",
        "```\n",
        "bacon = 22\n",
        "bacon = bacon + 1\n",
        "```\n",
        "\n"
      ],
      "metadata": {
        "id": "INit_iq0L4d6"
      }
    },
    {
      "cell_type": "markdown",
      "source": [
        "**Q7**\n",
        "\n",
        "'spam' + 'spamspam': The + operator combines or \"glues\" two strings together. 'spam' + 'spamspam' results in 'spamspamspam'.\n",
        "\n",
        "'spam' * 3: The * operator repeats a string a certain number of times. 'spam' * 3 means repeating the word 'spam' three times, resulting in 'spamspamspam'.\n",
        "\n",
        "In both cases, the value is 'spamspamspam'.\n",
        "\n"
      ],
      "metadata": {
        "id": "nYsmm9oDModS"
      }
    },
    {
      "cell_type": "markdown",
      "source": [
        "**Q8**\n",
        "\n",
        "In Python, you can give names to things like numbers or text using \"variable names.\" But there are rules for these names:\n",
        "\n",
        "1. Starting Character: Variable names must start with a letter (a to z or A to Z) or an underscore (_).\n",
        "\n",
        "2. Other Characters: After the first character, variable names can have letters, numbers, or underscores.\n",
        "\n",
        "So, 'eggs' is a valid variable name because it starts with a letter (e), and it doesn't have any special characters or spaces.\n",
        "\n",
        "On the other hand, '100' is not a valid variable name because it starts with a number (1). Variable names cannot start with numbers; they should start with a letter or an underscore.\n",
        "\n",
        "In short, 'eggs' is a good variable name, but '100' is not allowed as a variable name in Python."
      ],
      "metadata": {
        "id": "RumPOYC5Ng-K"
      }
    },
    {
      "cell_type": "markdown",
      "source": [
        "**Q9**\n",
        "\n",
        "Integer Conversion: int()\n",
        "\n",
        "If you have a number (or a whole number written as a text), int() can convert it to a regular whole number. It removes any decimal parts if there are any.\n",
        "\n",
        "`Example: int(5.7) becomes 5.`\n",
        "\n",
        "\n",
        "Floating-Point Conversion: float()\n",
        "\n",
        "If you have a number (whether it's a whole number or a decimal) or a text representing a number, float() can convert it to a floating-point number (a number with decimal points).\n",
        "```\n",
        "Example:\n",
        "float(5) becomes 5.0.\n",
        "```\n",
        "\n",
        "String Conversion: str()\n",
        "\n",
        "If you have any value, like a number or something else, str() can convert it into a text (string) representation of that value.\n",
        "\n",
        "`Example: str(42) becomes '42'.`"
      ],
      "metadata": {
        "id": "PIcsfqOSN-tL"
      }
    },
    {
      "cell_type": "markdown",
      "source": [
        "**Q10**\n",
        "\n",
        "In Python, you can't directly combine a string with a number using the + operator. To fix the error, you need to convert the number to a string using str():\n",
        "\n",
        "`Incorrect: 'I have eaten ' + 99 + ' burritos.'`\n",
        "\n",
        "`Correct: 'I have eaten ' + str(99) + ' burritos.'`\n",
        "\n",
        "By converting 99 to a string, the expression will work, and the result will be: 'I have eaten 99 burritos.'"
      ],
      "metadata": {
        "id": "fjw-J83KO7Rx"
      }
    },
    }
  ]
}
